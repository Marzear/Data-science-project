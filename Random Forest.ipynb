{
 "cells": [
  {
   "cell_type": "code",
   "execution_count": 49,
   "metadata": {},
   "outputs": [],
   "source": [
    "from sklearn.tree import DecisionTreeClassifier\n",
    "import pickle\n",
    "import numpy as np"
   ]
  },
  {
   "cell_type": "code",
   "execution_count": 50,
   "metadata": {},
   "outputs": [],
   "source": [
    "tree = DecisionTreeClassifier(criterion = 'entropy')"
   ]
  },
  {
   "cell_type": "code",
   "execution_count": 51,
   "metadata": {},
   "outputs": [],
   "source": [
    "with open(\"df.pickle\", \"rb\") as f:\n",
    "    df_list = pickle.load(f)\n",
    "\n",
    "with open(\"df_test.pickle\", \"rb\") as f:\n",
    "    df_test_list = pickle.load(f)"
   ]
  },
  {
   "cell_type": "code",
   "execution_count": 25,
   "metadata": {},
   "outputs": [
    {
     "name": "stdout",
     "output_type": "stream",
     "text": "scoring:  0.9245283018867925\nlabel = 1 amount:  1\nscoring in label = 1:  1.0\nlabel = 0 amount:  52\nscoring in label = 0:  0.9230769230769231\n"
    }
   ],
   "source": [
    "length = len(test_label)\n",
    "sucess = 0\n",
    "label_1 = 0\n",
    "scoring_label_1 = 0\n",
    "\n",
    "label_0 = 0\n",
    "scoring_label_0 = 0\n",
    "for i,j in zip(predict, test_label):\n",
    "    if i == j:\n",
    "        sucess += 1\n",
    "    if i == j and i == 1:\n",
    "        scoring_label_1 += 1\n",
    "    if j == 1:\n",
    "        label_1 += 1\n",
    "    if i == j and i == 0:\n",
    "        scoring_label_0 += 1\n",
    "    if j == 0:\n",
    "        label_0 += 1\n",
    "\n",
    "print(\"scoring: \", sucess / length)\n",
    "print(\"label = 1 amount: \", label_1)\n",
    "print(\"scoring in label = 1: \", scoring_label_1 / label_1)\n",
    "print(\"label = 0 amount: \", label_0)\n",
    "print(\"scoring in label = 0: \", scoring_label_0 / label_0)\n"
   ]
  },
  {
   "cell_type": "code",
   "execution_count": 38,
   "metadata": {},
   "outputs": [],
   "source": [
    "from sklearn.ensemble import RandomForestRegressor"
   ]
  },
  {
   "cell_type": "code",
   "execution_count": 48,
   "metadata": {},
   "outputs": [
    {
     "name": "stdout",
     "output_type": "stream",
     "text": "-------position: 1B----------\nscoring:  0.972318339100346\nlabel = 1 amount: predict= 5 label= 9\nscoring in label = 1:  0.5555555555555556\nlabel = 0 amount:  276\nscoring in label = 0: predict= 276 label= 280\n-------position: 2B----------\nscoring:  0.952054794520548\nlabel = 1 amount: predict= 4 label= 7\nscoring in label = 1:  0.5714285714285714\nlabel = 0 amount:  135\nscoring in label = 0: predict= 135 label= 139\n-------position: 3B----------\nscoring:  0.9482758620689655\nlabel = 1 amount: predict= 5 label= 5\nscoring in label = 1:  1.0\nlabel = 0 amount:  50\nscoring in label = 0: predict= 50 label= 53\n-------position: SS----------\nscoring:  0.9090909090909091\nlabel = 1 amount: predict= 2 label= 6\nscoring in label = 1:  0.3333333333333333\nlabel = 0 amount:  58\nscoring in label = 0: predict= 58 label= 60\n-------position: OF----------\nscoring:  0.9453924914675768\nlabel = 1 amount: predict= 13 label= 19\nscoring in label = 1:  0.6842105263157895\nlabel = 0 amount:  264\nscoring in label = 0: predict= 264 label= 274\n-------position: P----------\nscoring:  1.0\nlabel = 1 amount: predict= 0 label= 0\nlable1 = 0\nlabel = 0 amount:  3\nscoring in label = 0: predict= 3 label= 3\n-------position: C----------\nscoring:  0.9649122807017544\nlabel = 1 amount: predict= 4 label= 5\nscoring in label = 1:  0.8\nlabel = 0 amount:  51\nscoring in label = 0: predict= 51 label= 52\n"
    }
   ],
   "source": [
    "positions = [\"1B\", \"2B\", \"3B\", \"SS\", \"OF\", \"P\", \"C\"]\n",
    "for pos, df, df_test in zip(positions, df_list, df_test_list):\n",
    "    rf = RandomForestRegressor(n_estimators = 1000, random_state = 0)\n",
    "    rf.fit(df[0], df[1])\n",
    "    predictions = rf.predict(df_test[0])\n",
    "    result = list()\n",
    "    for pred in predictions:\n",
    "        if pred >= 0.5:\n",
    "            result.append(1)\n",
    "        else:\n",
    "            result.append(0)\n",
    "    test_label = df_test[1]\n",
    "    length = len(test_label)\n",
    "    sucess = 0\n",
    "    label_1 = 0\n",
    "    scoring_label_1 = 0\n",
    "\n",
    "    label_0 = 0\n",
    "    scoring_label_0 = 0\n",
    "    for i,j in zip(result, test_label):\n",
    "        if i == j:\n",
    "            sucess += 1\n",
    "        if i == j and i == 1:\n",
    "            scoring_label_1 += 1\n",
    "        if j == 1:\n",
    "            label_1 += 1\n",
    "        if i == j and i == 0:\n",
    "            scoring_label_0 += 1\n",
    "        if j == 0:\n",
    "            label_0 += 1\n",
    "    print(f\"-------position: {pos}----------\")\n",
    "    print(\"scoring: \", sucess / length)\n",
    "    print(\"label = 1 amount: predict=\", scoring_label_1, \"label=\", label_1)\n",
    "    if label_1 == 0:\n",
    "        print(\"lable1 = 0\")\n",
    "    else:\n",
    "        print(\"scoring in label = 1: \", scoring_label_1 / label_1)\n",
    "    print(\"label = 0 amount: \", scoring_label_0)\n",
    "    print(\"scoring in label = 0: predict=\", scoring_label_0, \"label=\", label_0)"
   ]
  },
  {
   "cell_type": "code",
   "execution_count": null,
   "metadata": {},
   "outputs": [],
   "source": []
  }
 ],
 "metadata": {
  "kernelspec": {
   "display_name": "Python 3",
   "language": "python",
   "name": "python3"
  },
  "language_info": {
   "codemirror_mode": {
    "name": "ipython",
    "version": 3
   },
   "file_extension": ".py",
   "mimetype": "text/x-python",
   "name": "python",
   "nbconvert_exporter": "python",
   "pygments_lexer": "ipython3",
   "version": "3.7.5"
  }
 },
 "nbformat": 4,
 "nbformat_minor": 2
}